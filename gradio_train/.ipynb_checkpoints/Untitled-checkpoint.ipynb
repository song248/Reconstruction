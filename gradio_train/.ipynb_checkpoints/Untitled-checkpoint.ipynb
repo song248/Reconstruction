{
 "cells": [
  {
   "cell_type": "code",
   "execution_count": 1,
   "id": "cf2a00fd",
   "metadata": {},
   "outputs": [],
   "source": [
    "import torch\n",
    "import requests\n",
    "from PIL import Image\n",
    "from diffusers import DiffusionPipeline, EulerAncestralDiscreteScheduler"
   ]
  },
  {
   "cell_type": "code",
   "execution_count": 2,
   "id": "19a199b3",
   "metadata": {},
   "outputs": [
    {
     "name": "stderr",
     "output_type": "stream",
     "text": [
      "text_encoder\\model.safetensors not found\n"
     ]
    },
    {
     "data": {
      "application/vnd.jupyter.widget-view+json": {
       "model_id": "0ce75e00438b433a8d84bd768ab14c4e",
       "version_major": 2,
       "version_minor": 0
      },
      "text/plain": [
       "Loading pipeline components...:   0%|          | 0/8 [00:00<?, ?it/s]"
      ]
     },
     "metadata": {},
     "output_type": "display_data"
    },
    {
     "data": {
      "text/plain": [
       "Zero123PlusPipeline {\n",
       "  \"_class_name\": \"Zero123PlusPipeline\",\n",
       "  \"_diffusers_version\": \"0.24.0\",\n",
       "  \"_name_or_path\": \"sudo-ai/zero123plus-v1.1\",\n",
       "  \"feature_extractor_clip\": [\n",
       "    \"transformers\",\n",
       "    \"CLIPImageProcessor\"\n",
       "  ],\n",
       "  \"feature_extractor_vae\": [\n",
       "    \"transformers\",\n",
       "    \"CLIPImageProcessor\"\n",
       "  ],\n",
       "  \"ramping_coefficients\": [\n",
       "    0.0,\n",
       "    0.2060057818889618,\n",
       "    0.18684479594230652,\n",
       "    0.24342191219329834,\n",
       "    0.18507817387580872,\n",
       "    0.1703828126192093,\n",
       "    0.15628913044929504,\n",
       "    0.14174538850784302,\n",
       "    0.13617539405822754,\n",
       "    0.13569170236587524,\n",
       "    0.1269884556531906,\n",
       "    0.1200924888253212,\n",
       "    0.12816639244556427,\n",
       "    0.13058121502399445,\n",
       "    0.14201879501342773,\n",
       "    0.15004529058933258,\n",
       "    0.1620427817106247,\n",
       "    0.17207716405391693,\n",
       "    0.18534132838249207,\n",
       "    0.20002241432666779,\n",
       "    0.21657466888427734,\n",
       "    0.22996725142002106,\n",
       "    0.24613411724567413,\n",
       "    0.25141021609306335,\n",
       "    0.26613450050354004,\n",
       "    0.271847128868103,\n",
       "    0.2850190997123718,\n",
       "    0.285749226808548,\n",
       "    0.2813953757286072,\n",
       "    0.29509517550468445,\n",
       "    0.30109965801239014,\n",
       "    0.31370124220848083,\n",
       "    0.3134534955024719,\n",
       "    0.3108579218387604,\n",
       "    0.32147032022476196,\n",
       "    0.33548328280448914,\n",
       "    0.3301997184753418,\n",
       "    0.3254660964012146,\n",
       "    0.3514464199542999,\n",
       "    0.35993096232414246,\n",
       "    0.3510829508304596,\n",
       "    0.37661612033843994,\n",
       "    0.3913513123989105,\n",
       "    0.42122599482536316,\n",
       "    0.3954688012599945,\n",
       "    0.4260983467102051,\n",
       "    0.479139506816864,\n",
       "    0.4588979482650757,\n",
       "    0.4873477816581726,\n",
       "    0.5095643401145935,\n",
       "    0.5133851170539856,\n",
       "    0.520708441734314,\n",
       "    0.5363377928733826,\n",
       "    0.5661528706550598,\n",
       "    0.5859065651893616,\n",
       "    0.6207258701324463,\n",
       "    0.6560986638069153,\n",
       "    0.6379964351654053,\n",
       "    0.6777164340019226,\n",
       "    0.6589891910552979,\n",
       "    0.7574057579040527,\n",
       "    0.7446827292442322,\n",
       "    0.7695522308349609,\n",
       "    0.8163619041442871,\n",
       "    0.9502472281455994,\n",
       "    0.9918442368507385,\n",
       "    0.9398387670516968,\n",
       "    1.005432367324829,\n",
       "    0.9295969605445862,\n",
       "    0.9899859428405762,\n",
       "    1.044832706451416,\n",
       "    1.0427014827728271,\n",
       "    1.0829696655273438,\n",
       "    1.0062562227249146,\n",
       "    1.0966323614120483,\n",
       "    1.0550328493118286,\n",
       "    1.2108079195022583\n",
       "  ],\n",
       "  \"safety_checker\": [\n",
       "    null,\n",
       "    null\n",
       "  ],\n",
       "  \"scheduler\": [\n",
       "    \"diffusers\",\n",
       "    \"EulerAncestralDiscreteScheduler\"\n",
       "  ],\n",
       "  \"text_encoder\": [\n",
       "    \"transformers\",\n",
       "    \"CLIPTextModel\"\n",
       "  ],\n",
       "  \"tokenizer\": [\n",
       "    \"transformers\",\n",
       "    \"CLIPTokenizer\"\n",
       "  ],\n",
       "  \"unet\": [\n",
       "    \"diffusers\",\n",
       "    \"UNet2DConditionModel\"\n",
       "  ],\n",
       "  \"vae\": [\n",
       "    \"diffusers\",\n",
       "    \"AutoencoderKL\"\n",
       "  ],\n",
       "  \"vision_encoder\": [\n",
       "    \"transformers\",\n",
       "    \"CLIPVisionModelWithProjection\"\n",
       "  ]\n",
       "}"
      ]
     },
     "execution_count": 2,
     "metadata": {},
     "output_type": "execute_result"
    }
   ],
   "source": [
    "# Load the pipeline\n",
    "pipeline = DiffusionPipeline.from_pretrained(\n",
    "    \"sudo-ai/zero123plus-v1.1\", custom_pipeline=\"sudo-ai/zero123plus-pipeline\",\n",
    "    torch_dtype=torch.float16\n",
    ")\n",
    "# Feel free to tune the scheduler\n",
    "pipeline.scheduler = EulerAncestralDiscreteScheduler.from_config(\n",
    "    pipeline.scheduler.config, timestep_spacing='trailing'\n",
    ")\n",
    "pipeline.to('cuda:0')\n",
    "# Run the pipeline"
   ]
  },
  {
   "cell_type": "code",
   "execution_count": 3,
   "id": "3cfb9543",
   "metadata": {},
   "outputs": [
    {
     "data": {
      "application/vnd.jupyter.widget-view+json": {
       "model_id": "0e4492861692446689bda600c479ea18",
       "version_major": 2,
       "version_minor": 0
      },
      "text/plain": [
       "  0%|          | 0/28 [00:00<?, ?it/s]"
      ]
     },
     "metadata": {},
     "output_type": "display_data"
    }
   ],
   "source": [
    "path = 'puppy.jpg'\n",
    "cond = Image.open(path)\n",
    "result = pipeline(cond).images[0]\n",
    "# result.show()"
   ]
  },
  {
   "cell_type": "code",
   "execution_count": 4,
   "id": "6782ed8f",
   "metadata": {},
   "outputs": [],
   "source": [
    "import matplotlib.pyplot as plt"
   ]
  },
  {
   "cell_type": "code",
   "execution_count": null,
   "id": "0fb97cdc",
   "metadata": {},
   "outputs": [],
   "source": [
    "plt.imshow(result)"
   ]
  }
 ],
 "metadata": {
  "kernelspec": {
   "display_name": "Python 3 (ipykernel)",
   "language": "python",
   "name": "python3"
  },
  "language_info": {
   "codemirror_mode": {
    "name": "ipython",
    "version": 3
   },
   "file_extension": ".py",
   "mimetype": "text/x-python",
   "name": "python",
   "nbconvert_exporter": "python",
   "pygments_lexer": "ipython3",
   "version": "3.9.7"
  }
 },
 "nbformat": 4,
 "nbformat_minor": 5
}
